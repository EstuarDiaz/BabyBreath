{
 "cells": [
  {
   "cell_type": "code",
   "execution_count": 163,
   "metadata": {},
   "outputs": [],
   "source": [
    "class Node(object):\n",
    "    def __init__(self, n=1, x=0, y=0, z=0):\n",
    "        self.position = [int(x),int(y),int(z)]\n",
    "        self.birthday = n\n",
    "        self.parent = None\n",
    "        self.children = []\n",
    "    \n",
    "    def setBirthday(self,n):\n",
    "        self.birthday = n\n",
    "        \n",
    "    def getBirthday(self):\n",
    "        return self.birthday\n",
    "    \n",
    "    def setParent(self, parent):\n",
    "        self.parent = parent\n",
    "    \n",
    "    def getParent(self):\n",
    "        return self.parent\n",
    "    \n",
    "    def addChild(self, child):\n",
    "        self.children.append(child)\n",
    "        child.setParent(self)\n",
    "    \n",
    "    def getChildren(slef,child):\n",
    "        return self.children\n",
    "    \n",
    "    def setPosition(self, x,y,z):\n",
    "        self.position = [x,y,z]\n",
    "        \n",
    "    def getPosition(self):\n",
    "        return self.position\n",
    "    \n",
    "    def equals(self, node):\n",
    "        return (self.position == node.position)\n",
    "    \n",
    "    def preBirth(self):\n",
    "        n = self.birthday\n",
    "        x = self.position[0]\n",
    "        y = self.position[1]\n",
    "        z = self.position[2]\n",
    "        \n",
    "        A = Node(n+1, x+1, y+1, z+(-1)**x)\n",
    "        B = Node(n+1, x-1, y-1, z+(-1)**x)\n",
    "        C = Node(n+1, x+1, y-1, z+(-1)**(x+1))\n",
    "        D = Node(n+1, x-1, y+1, z+(-1)**(x+1))\n",
    "        return [A,B,C,D]"
   ]
  },
  {
   "cell_type": "code",
   "execution_count": 192,
   "metadata": {},
   "outputs": [],
   "source": [
    "class TreeClass(object):\n",
    "    def __init__(self):\n",
    "        self.data = []\n",
    "        self.population = 0\n",
    "    \n",
    "    def append(self,a):\n",
    "        self.population += len(a)\n",
    "        self.data.append(a)\n",
    "        \n",
    "    def getData(self):\n",
    "        \n",
    "        return self.data\n",
    "        \n",
    "    def getDepth(self):\n",
    "        return len(self.data)\n",
    "    \n",
    "    def getLastBranch(self):\n",
    "        return self.data[self.getDepth()-1]\n",
    "    \n",
    "    def getPopulation(self):\n",
    "        return self.population\n",
    "        \n",
    "    def printData(self):\n",
    "        print(\"Total population: \",self.getPopulation())\n",
    "        for level in self.data:\n",
    "            for node in level:\n",
    "                pos = node.getPosition()\n",
    "                print(\"n: \",node.getBirthday(),\" pos:(\",pos[0],\", \",pos[1],\", \",pos[2],\")\")"
   ]
  },
  {
   "cell_type": "code",
   "execution_count": 201,
   "metadata": {},
   "outputs": [],
   "source": [
    "def BloomBF(Tree):\n",
    "    preNodes = []\n",
    "    newNodes = []\n",
    "    for node in Tree.getLastBranch():\n",
    "        preNodes.extend(node.preBirth())\n",
    "    \n",
    "    for i in range(len(preNodes)):\n",
    "        repeated = False\n",
    "        for branchLevel in Tree.getData():\n",
    "            for node in branchLevel:\n",
    "                if preNodes[i].equals(node):\n",
    "                    repeated = True\n",
    "        for j in range(len(preNodes)):\n",
    "            if i != j and preNodes[i].equals(preNodes[j]):\n",
    "                repeated = True\n",
    "        if repeated == False:\n",
    "            newNodes.append(preNodes[i])\n",
    "    \n",
    "    Tree.append(newNodes)\n",
    "    return Tree"
   ]
  },
  {
   "cell_type": "code",
   "execution_count": 205,
   "metadata": {},
   "outputs": [
    {
     "name": "stdout",
     "output_type": "stream",
     "text": [
      "Total population:  1\n",
      "n:  1  pos:( 0 ,  0 ,  0 )\n"
     ]
    }
   ],
   "source": [
    "Tree = TreeClass()\n",
    "root = Node()\n",
    "Tree.append([root])\n",
    "Tree.printData()"
   ]
  },
  {
   "cell_type": "code",
   "execution_count": 206,
   "metadata": {},
   "outputs": [
    {
     "name": "stdout",
     "output_type": "stream",
     "text": [
      "[1, 5, 17, 29, 41, 77, 161, 197, 209, 245, 353]\n"
     ]
    }
   ],
   "source": [
    "n = 10\n",
    "bbs = [Tree.getPopulation()] # Baby Breath Sequence\n",
    "for i in range(n-1):\n",
    "    Tree = BloomBF(Tree)\n",
    "    bbs.append(Tree.getPopulation())"
   ]
  },
  {
   "cell_type": "code",
   "execution_count": 216,
   "metadata": {},
   "outputs": [],
   "source": [
    "import numpy as np\n",
    "import matplotlib.pyplot as plt"
   ]
  },
  {
   "cell_type": "code",
   "execution_count": 220,
   "metadata": {},
   "outputs": [
    {
     "data": {
      "image/png": "[encoded data removed]",
      "text/plain": [
       "<Figure size 432x288 with 1 Axes>"
      ]
     },
     "metadata": {},
     "output_type": "display_data"
    }
   ],
   "source": [
    "x = np.array(range(len(bbs)))\n",
    "y = np.array(bbs)\n",
    "plt.scatter(x, y)\n",
    "plt.title('Baby Breath Sequence')\n",
    "plt.xlabel('n')\n",
    "plt.ylabel('a(n)')\n",
    "plt.show()"
   ]
  },
  {
   "cell_type": "code",
   "execution_count": 222,
   "metadata": {},
   "outputs": [
    {
     "name": "stdout",
     "output_type": "stream",
     "text": [
      "Baby Breath Sequence:  [1, 5, 17, 29, 41, 77, 161, 197, 209, 245, 353]\n"
     ]
    }
   ],
   "source": [
    "print(\"Baby Breath Sequence: \",bbs)"
   ]
  },
  {
   "cell_type": "code",
   "execution_count": 225,
   "metadata": {},
   "outputs": [
    {
     "data": {
      "text/plain": [
       "[0, 2, 2]"
      ]
     },
     "execution_count": 225,
     "metadata": {},
     "output_type": "execute_result"
    }
   ],
   "source": [
    "Tree.getData()[2][2].getPosition()"
   ]
  },
  {
   "cell_type": "code",
   "execution_count": null,
   "metadata": {},
   "outputs": [],
   "source": []
  }
 ],
 "metadata": {
  "anaconda-cloud": {},
  "kernelspec": {
   "display_name": "Python 3",
   "language": "python",
   "name": "python3"
  },
  "language_info": {
   "codemirror_mode": {
    "name": "ipython",
    "version": 3
   },
   "file_extension": ".py",
   "mimetype": "text/x-python",
   "name": "python",
   "nbconvert_exporter": "python",
   "pygments_lexer": "ipython3",
   "version": "3.6.5"
  }
 },
 "nbformat": 4,
 "nbformat_minor": 1
}
