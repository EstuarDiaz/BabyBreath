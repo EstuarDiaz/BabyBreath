{
 "cells": [
  {
   "cell_type": "code",
   "execution_count": 1,
   "metadata": {},
   "outputs": [],
   "source": [
    "class Node(object):\n",
    "    def __init__(self, n=1, x=0, y=0, z=0):\n",
    "        self.position = [int(x),int(y),int(z)]\n",
    "        self.birthday = n\n",
    "        self.parent = None\n",
    "        self.children = []\n",
    "    \n",
    "    def setBirthday(self,n):\n",
    "        self.birthday = n\n",
    "        \n",
    "    def getBirthday(self):\n",
    "        return self.birthday\n",
    "    \n",
    "    def setParent(self, parent):\n",
    "        self.parent = parent\n",
    "    \n",
    "    def getParent(self):\n",
    "        return self.parent\n",
    "    \n",
    "    def addChild(self, child):\n",
    "        self.children.append(child)\n",
    "        child.setParent(self)\n",
    "    \n",
    "    def getChildren(self):\n",
    "        return self.children\n",
    "    \n",
    "    def setPosition(self, x,y,z):\n",
    "        self.position = [x,y,z]\n",
    "        \n",
    "    def getPosition(self):\n",
    "        return self.position\n",
    "    \n",
    "    def equals(self, node):\n",
    "        return (self.position == node.position)\n",
    "    \n",
    "    def preBirth(self):\n",
    "        n = self.birthday\n",
    "        x = self.position[0]\n",
    "        y = self.position[1]\n",
    "        z = self.position[2]\n",
    "        \n",
    "        A = Node(n+1, x+1, y+1, z+(-1)**x)\n",
    "        B = Node(n+1, x-1, y-1, z+(-1)**x)\n",
    "        C = Node(n+1, x+1, y-1, z+(-1)**(x+1))\n",
    "        D = Node(n+1, x-1, y+1, z+(-1)**(x+1))\n",
    "        return [A,B,C,D]"
   ]
  },
  {
   "cell_type": "code",
   "execution_count": 2,
   "metadata": {},
   "outputs": [],
   "source": [
    "class TreeClass(object):\n",
    "    def __init__(self):\n",
    "        self.data = []\n",
    "        self.population = 0\n",
    "    \n",
    "    def append(self,a):\n",
    "        self.population += len(a)\n",
    "        self.data.append(a)\n",
    "        \n",
    "    def getData(self):\n",
    "        \n",
    "        return self.data\n",
    "        \n",
    "    def getDepth(self):\n",
    "        return len(self.data)\n",
    "    \n",
    "    def getLastBranch(self):\n",
    "        return self.data[self.getDepth()-1]\n",
    "    \n",
    "    def getPopulation(self):\n",
    "        return self.population\n",
    "        \n",
    "    def printData(self):\n",
    "        print(\"Total population: \",self.getPopulation())\n",
    "        for level in self.data:\n",
    "            for node in level:\n",
    "                pos = node.getPosition()\n",
    "                print(\"n: \",node.getBirthday(),\" pos:(\",pos[0],\", \",pos[1],\", \",pos[2],\")\")"
   ]
  },
  {
   "cell_type": "code",
   "execution_count": 3,
   "metadata": {},
   "outputs": [],
   "source": [
    "def BloomBF(Tree):\n",
    "    preNodes = []\n",
    "    newNodes = []\n",
    "    for node in Tree.getLastBranch():\n",
    "        preNodes.extend(node.preBirth())\n",
    "    \n",
    "    for i in range(len(preNodes)):\n",
    "        repeated = False\n",
    "        for branchLevel in Tree.getData():\n",
    "            for node in branchLevel:\n",
    "                if preNodes[i].equals(node):\n",
    "                    repeated = True\n",
    "        for j in range(len(preNodes)):\n",
    "            if i != j and preNodes[i].equals(preNodes[j]):\n",
    "                repeated = True\n",
    "        if repeated == False:\n",
    "            newNodes.append(preNodes[i])\n",
    "    \n",
    "    Tree.append(newNodes)\n",
    "    return Tree"
   ]
  },
  {
   "cell_type": "code",
   "execution_count": 12,
   "metadata": {},
   "outputs": [
    {
     "name": "stdout",
     "output_type": "stream",
     "text": [
      "Total population:  1\n",
      "n:  1  pos:( 0 ,  0 ,  0 )\n"
     ]
    }
   ],
   "source": [
    "Tree = TreeClass()\n",
    "root = Node()\n",
    "Tree.append([root])\n",
    "Tree.printData()"
   ]
  },
  {
   "cell_type": "code",
   "execution_count": 13,
   "metadata": {},
   "outputs": [],
   "source": [
    "n = 30\n",
    "bbs = [Tree.getPopulation()] # Baby Breath Sequence\n",
    "for i in range(n-1):\n",
    "    Tree = BloomBF(Tree)\n",
    "    bbs.append(Tree.getPopulation())"
   ]
  },
  {
   "cell_type": "code",
   "execution_count": 8,
   "metadata": {},
   "outputs": [],
   "source": [
    "import numpy as np\n",
    "import matplotlib.pyplot as plt"
   ]
  },
  {
   "cell_type": "code",
   "execution_count": 14,
   "metadata": {},
   "outputs": [
    {
     "data": {
      "image/png": "[encoded data removed]",
      "text/plain": [
       "<Figure size 432x288 with 1 Axes>"
      ]
     },
     "metadata": {},
     "output_type": "display_data"
    }
   ],
   "source": [
    "x = np.array(range(len(bbs)))\n",
    "y = np.array(bbs)\n",
    "plt.scatter(x, y)\n",
    "plt.title('Baby Breath Sequence')\n",
    "plt.xlabel('n')\n",
    "plt.ylabel('a(n)')\n",
    "plt.show()"
   ]
  },
  {
   "cell_type": "code",
   "execution_count": 15,
   "metadata": {},
   "outputs": [
    {
     "name": "stdout",
     "output_type": "stream",
     "text": [
      "Baby Breath Sequence:  [1, 5, 17, 29, 41, 77, 161, 197, 209, 245, 353, 533, 665, 869, 1313, 1469, 1529, 1589, 1697, 1877, 2033, 2357, 3089, 3869, 4241, 4565, 5321, 6749, 7865, 9197]\n"
     ]
    }
   ],
   "source": [
    "print(\"Baby Breath Sequence: \",bbs)"
   ]
  },
  {
   "cell_type": "code",
   "execution_count": 16,
   "metadata": {},
   "outputs": [
    {
     "data": {
      "text/plain": [
       "[0, 2, 2]"
      ]
     },
     "execution_count": 16,
     "metadata": {},
     "output_type": "execute_result"
    }
   ],
   "source": [
    "Tree.getData()[2][2].getPosition()"
   ]
  },
  {
   "cell_type": "code",
   "execution_count": 22,
   "metadata": {},
   "outputs": [
    {
     "data": {
      "text/plain": [
       "array([0.        , 1.60943791, 2.83321334, 3.36729583, 3.71357207,\n",
       "       4.34380542, 5.08140436, 5.28320373, 5.34233425, 5.50125821,\n",
       "       5.86646806, 6.27852142, 6.49978704, 6.76734313, 7.18006987,\n",
       "       7.29233718, 7.33236921, 7.37086017, 7.43661727, 7.53743004,\n",
       "       7.61726781, 7.7651449 , 8.03560269, 8.26075135, 8.35255437,\n",
       "       8.42617379, 8.57941653, 8.81714962, 8.97017782, 9.12663262])"
      ]
     },
     "execution_count": 22,
     "metadata": {},
     "output_type": "execute_result"
    }
   ],
   "source": [
    "l_bbs = np.log(bbs)\n",
    "l_bbs"
   ]
  },
  {
   "cell_type": "code",
   "execution_count": 21,
   "metadata": {},
   "outputs": [
    {
     "data": {
      "image/png": "[encoded data removed]",
      "text/plain": [
       "<Figure size 432x288 with 1 Axes>"
      ]
     },
     "metadata": {},
     "output_type": "display_data"
    }
   ],
   "source": [
    "x = np.array(range(len(l_bbs)))\n",
    "y = np.array(l_bbs)\n",
    "plt.scatter(x, y)\n",
    "plt.title('Baby Breath Sequence')\n",
    "plt.xlabel('n')\n",
    "plt.ylabel('ln[a(n)]')\n",
    "plt.show()"
   ]
  },
  {
   "cell_type": "code",
   "execution_count": 25,
   "metadata": {},
   "outputs": [
    {
     "data": {
      "text/plain": [
       "array([1.00000000e+00, 2.00000000e-01, 5.88235294e-02, 3.44827586e-02,\n",
       "       2.43902439e-02, 1.29870130e-02, 6.21118012e-03, 5.07614213e-03,\n",
       "       4.78468900e-03, 4.08163265e-03, 2.83286119e-03, 1.87617261e-03,\n",
       "       1.50375940e-03, 1.15074799e-03, 7.61614623e-04, 6.80735194e-04,\n",
       "       6.54022237e-04, 6.29326621e-04, 5.89275192e-04, 5.32765051e-04,\n",
       "       4.91883915e-04, 4.24268137e-04, 3.23729362e-04, 2.58464720e-04,\n",
       "       2.35793445e-04, 2.19058050e-04, 1.87934599e-04, 1.48170099e-04,\n",
       "       1.27145582e-04, 1.08731108e-04])"
      ]
     },
     "execution_count": 25,
     "metadata": {},
     "output_type": "execute_result"
    }
   ],
   "source": [
    "inv_bbs = np.divide(1,bbs)\n",
    "inv_bbs"
   ]
  },
  {
   "cell_type": "code",
   "execution_count": 27,
   "metadata": {},
   "outputs": [
    {
     "data": {
      "image/png": "[encoded data removed]",
      "text/plain": [
       "<Figure size 432x288 with 1 Axes>"
      ]
     },
     "metadata": {},
     "output_type": "display_data"
    }
   ],
   "source": [
    "x = np.array(range(len(inv_bbs)))\n",
    "y = np.array(inv_bbs)\n",
    "plt.scatter(x, y)\n",
    "plt.title('Baby Breath Sequence')\n",
    "plt.xlabel('n')\n",
    "plt.ylabel('1/a(n)')\n",
    "plt.show()"
   ]
  },
  {
   "cell_type": "code",
   "execution_count": null,
   "metadata": {},
   "outputs": [],
   "source": []
  }
 ],
 "metadata": {
  "anaconda-cloud": {},
  "kernelspec": {
   "display_name": "Python 3",
   "language": "python",
   "name": "python3"
  },
  "language_info": {
   "codemirror_mode": {
    "name": "ipython",
    "version": 3
   },
   "file_extension": ".py",
   "mimetype": "text/x-python",
   "name": "python",
   "nbconvert_exporter": "python",
   "pygments_lexer": "ipython3",
   "version": "3.6.5"
  }
 },
 "nbformat": 4,
 "nbformat_minor": 1
}
