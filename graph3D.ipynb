{
 "cells": [
  {
   "cell_type": "code",
   "execution_count": 1,
   "metadata": {},
   "outputs": [],
   "source": [
    "import plotly.plotly\n",
    "import plotly.graph_objs as go\n",
    "from plotly.offline import *"
   ]
  },
  {
   "cell_type": "code",
   "execution_count": 34,
   "metadata": {},
   "outputs": [],
   "source": [
    "\n",
    "N = 10\n",
    "labels = []\n",
    "group = [1,1,1,1,1,2,2,2,2,2]\n",
    "layt = [\n",
    "    [0,0,0],\n",
    "    [-0.5,-0.5,-0.5],\n",
    "    [-0.5,0.5,0.5],\n",
    "    [0.5,-0.5,0.5],\n",
    "    [0.5,0.5,-0.5],\n",
    "    [1,1,1],\n",
    "    [1-0.5,1-0.5,1-0.5],\n",
    "    [1-0.5,1+0.5,1+0.5],\n",
    "    [1+0.5,1-0.5,1+0.5],\n",
    "    [1+0.5,1+0.5,1-0.5]\n",
    "]\n",
    "Edges = [[0,1],[0,2],[0,3],[0,4]]\n",
    "Edges2 = [[5,6],[5,7],[5,8],[5,9]]"
   ]
  },
  {
   "cell_type": "markdown",
   "metadata": {},
   "source": [
    "`layt` is a list of three elements lists (the coordinates of nodes):"
   ]
  },
  {
   "cell_type": "code",
   "execution_count": 35,
   "metadata": {},
   "outputs": [
    {
     "data": {
      "text/plain": [
       "[0, 0, 0]"
      ]
     },
     "execution_count": 35,
     "metadata": {},
     "output_type": "execute_result"
    }
   ],
   "source": [
    "layt[0]"
   ]
  },
  {
   "cell_type": "code",
   "execution_count": 36,
   "metadata": {},
   "outputs": [
    {
     "data": {
      "text/plain": [
       "[0, 1]"
      ]
     },
     "execution_count": 36,
     "metadata": {},
     "output_type": "execute_result"
    }
   ],
   "source": [
    "Edges[0]"
   ]
  },
  {
   "cell_type": "markdown",
   "metadata": {},
   "source": [
    "Set data for the Plotly plot of the graph:"
   ]
  },
  {
   "cell_type": "code",
   "execution_count": 37,
   "metadata": {},
   "outputs": [],
   "source": [
    "Xn=[layt[k][0] for k in range(N)]# x-coordinates of nodes\n",
    "Yn=[layt[k][1] for k in range(N)]# y-coordinates\n",
    "Zn=[layt[k][2] for k in range(N)]# z-coordinates\n",
    "Xe=[]\n",
    "Ye=[]\n",
    "Ze=[]\n",
    "for e in Edges:\n",
    "    Xe+=[layt[e[0]][0],layt[e[1]][0]]# x-coordinates of edge ends\n",
    "    Ye+=[layt[e[0]][1],layt[e[1]][1]]  \n",
    "    Ze+=[layt[e[0]][2],layt[e[1]][2]]  \n",
    "Xe2=[]\n",
    "Ye2=[]\n",
    "Ze2=[]\n",
    "for e in Edges2:\n",
    "    Xe2+=[layt[e[0]][0],layt[e[1]][0]]# x-coordinates of edge ends\n",
    "    Ye2+=[layt[e[0]][1],layt[e[1]][1]]  \n",
    "    Ze2+=[layt[e[0]][2],layt[e[1]][2]]  "
   ]
  },
  {
   "cell_type": "code",
   "execution_count": 38,
   "metadata": {},
   "outputs": [
    {
     "data": {
      "text/plain": [
       "[0, -0.5, 0, -0.5, 0, 0.5, 0, 0.5]"
      ]
     },
     "execution_count": 38,
     "metadata": {},
     "output_type": "execute_result"
    }
   ],
   "source": [
    "Xe"
   ]
  },
  {
   "cell_type": "code",
   "execution_count": 39,
   "metadata": {},
   "outputs": [],
   "source": [
    "trace2=go.Scatter3d(x=Xe,\n",
    "               y=Ye,\n",
    "               z=Ze,\n",
    "               mode='lines',\n",
    "               line=dict(color='rgb(125,125,125)', width=3),\n",
    "               hoverinfo='none'\n",
    "               )\n",
    "\n",
    "trace3=go.Scatter3d(x=Xe2,\n",
    "               y=Ye2,\n",
    "               z=Ze2,\n",
    "               mode='lines',\n",
    "               line=dict(color='rgb(125,125,125)', width=3),\n",
    "               hoverinfo='none'\n",
    "               )\n",
    "\n",
    "trace1=go.Scatter3d(x=Xn,\n",
    "               y=Yn,\n",
    "               z=Zn,\n",
    "               mode='markers',\n",
    "               name='actors',\n",
    "               marker=dict(symbol='circle',\n",
    "                             size=6,\n",
    "                             color=group,\n",
    "                             colorscale='Viridis',\n",
    "                             line=dict(color='rgb(50,50,50)', width=0.5)\n",
    "                             ),\n",
    "               text=labels,\n",
    "               hoverinfo='text'\n",
    "               )\n",
    "\n",
    "axis=dict(showbackground=True,\n",
    "          showline=True,\n",
    "          zeroline=True,\n",
    "          showgrid=True,\n",
    "          showticklabels=True,\n",
    "          title=''\n",
    "          )\n",
    "\n",
    "layout = go.Layout(\n",
    "         title=\"Babybreath graph\",\n",
    "         width=1000,\n",
    "         height=1000,\n",
    "         showlegend=False,\n",
    "         scene=dict(\n",
    "             xaxis=dict(axis),\n",
    "             yaxis=dict(axis),\n",
    "             zaxis=dict(axis),\n",
    "        ),\n",
    "     margin=dict(\n",
    "        t=100\n",
    "    ),\n",
    "    hovermode='closest',    )"
   ]
  },
  {
   "cell_type": "code",
   "execution_count": 40,
   "metadata": {},
   "outputs": [
    {
     "data": {
      "text/plain": [
       "Scatter3d({\n",
       "    'hoverinfo': 'text',\n",
       "    'marker': {'color': [1, 1, 1, 1, 1, 2, 2, 2, 2, 2],\n",
       "               'colorscale': 'Viridis',\n",
       "               'line': {'color': 'rgb(50,50,50)', 'width': 0.5},\n",
       "               'size': 6,\n",
       "               'symbol': 'circle'},\n",
       "    'mode': 'markers',\n",
       "    'name': 'actors',\n",
       "    'text': [],\n",
       "    'x': [0, -0.5, -0.5, 0.5, 0.5, 1, 0.5, 0.5, 1.5, 1.5],\n",
       "    'y': [0, -0.5, 0.5, -0.5, 0.5, 1, 0.5, 1.5, 0.5, 1.5],\n",
       "    'z': [0, -0.5, 0.5, 0.5, -0.5, 1, 0.5, 1.5, 1.5, 0.5]\n",
       "})"
      ]
     },
     "execution_count": 40,
     "metadata": {},
     "output_type": "execute_result"
    }
   ],
   "source": [
    "trace1"
   ]
  },
  {
   "cell_type": "code",
   "execution_count": 41,
   "metadata": {},
   "outputs": [],
   "source": [
    "data=[trace1, trace2, trace3]\n",
    "fig=go.Figure(data=data, layout=layout)"
   ]
  },
  {
   "cell_type": "code",
   "execution_count": 42,
   "metadata": {},
   "outputs": [
    {
     "data": {
      "text/plain": [
       "'file://C:\\\\Users\\\\lisbe\\\\Documents\\\\Estuar\\\\Math4fun\\\\BabyBreath\\\\BabyBreath\\\\graph.html'"
      ]
     },
     "execution_count": 42,
     "metadata": {},
     "output_type": "execute_result"
    }
   ],
   "source": [
    "plotly.offline.plot(fig, filename = 'graph.html')"
   ]
  },
  {
   "cell_type": "code",
   "execution_count": null,
   "metadata": {},
   "outputs": [],
   "source": []
  }
 ],
 "metadata": {
  "anaconda-cloud": {},
  "kernelspec": {
   "display_name": "Python 3",
   "language": "python",
   "name": "python3"
  },
  "language_info": {
   "codemirror_mode": {
    "name": "ipython",
    "version": 3
   },
   "file_extension": ".py",
   "mimetype": "text/x-python",
   "name": "python",
   "nbconvert_exporter": "python",
   "pygments_lexer": "ipython3",
   "version": "3.6.5"
  }
 },
 "nbformat": 4,
 "nbformat_minor": 1
}
