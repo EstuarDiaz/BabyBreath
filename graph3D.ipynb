{
 "cells": [
  {
   "cell_type": "code",
   "execution_count": 1,
   "metadata": {},
   "outputs": [],
   "source": [
    "import plotly.plotly\n",
    "import plotly.graph_objs as go\n",
    "from plotly.offline import *"
   ]
  },
  {
   "cell_type": "code",
   "execution_count": 4,
   "metadata": {},
   "outputs": [],
   "source": [
    "class Node(object):\n",
    "    def __init__(self, x=0, y=0, z=0):\n",
    "        self.data = None\n",
    "        self.parent = None\n",
    "        self.children = []\n",
    "        self.pos = [x,y,z]\n",
    "    \n",
    "    def setParent(self, parent):\n",
    "        self.parent = parent\n",
    "    \n",
    "    def getParent(self):\n",
    "        return self.parent\n",
    "        \n",
    "    def addChild(self, child):\n",
    "        self.children.append(child)\n",
    "        child.setParent(self)\n",
    "        \n",
    "    def getPos(self):\n",
    "        return self.pos\n",
    "    \n",
    "    def toList(self):\n",
    "        nodeList = []\n",
    "        nodeList.append(self.getPos())\n",
    "        for child in self.children:\n",
    "            nodeList.extend(child.toList())\n",
    "        return nodeList\n",
    "    \n",
    "    # Retun array = [Nodes,Edges]\n",
    "    # Nodes = [[x1,y2,z1], [x2,y2,z2]]\n",
    "    # Edges = [[0,1], [1,2]]\n",
    "    def toGraph(self):\n",
    "        Nodes = []\n",
    "        Edges = []\n",
    "        Nodes.append(self.getPos())\n",
    "        for child in self.children:\n",
    "            childGraph = child.toGraph()\n",
    "            Nodes.extend(childGraph[0])\n",
    "            Edges.extend(childGraph[1])\n",
    "        return [Nodes, Edges]\n",
    "    \n",
    "    def bloom(self):\n",
    "        if self.getParent() != None:\n",
    "            n1 = Node(self.pos[0]+1,self.pos[1]+1,self.pos[2]+1)\n",
    "            n2 = Node(self.pos[0]-1,self.pos[1]+1,self.pos[2]+1)\n",
    "            n3 = Node(self.pos[0]+1,self.pos[1]-1,self.pos[2]+1)\n",
    "        else:\n",
    "            n1 = Node(self.pos[0]+1,self.pos[1]+1,self.pos[2]+1)\n",
    "            n2 = Node(self.pos[0]-1,self.pos[1]+1,self.pos[2]+1)\n",
    "            n3 = Node(self.pos[0]+1,self.pos[1]-1,self.pos[2]+1)\n",
    "        return [n1,n2,n3]"
   ]
  },
  {
   "cell_type": "code",
   "execution_count": 5,
   "metadata": {},
   "outputs": [],
   "source": [
    "root = Node()"
   ]
  },
  {
   "cell_type": "code",
   "execution_count": 6,
   "metadata": {},
   "outputs": [
    {
     "data": {
      "text/plain": [
       "[0, 0, 0]"
      ]
     },
     "execution_count": 6,
     "metadata": {},
     "output_type": "execute_result"
    }
   ],
   "source": [
    "root.getPos()"
   ]
  },
  {
   "cell_type": "code",
   "execution_count": 7,
   "metadata": {},
   "outputs": [
    {
     "ename": "NameError",
     "evalue": "name 'bloom' is not defined",
     "output_type": "error",
     "traceback": [
      "\u001b[1;31m---------------------------------------------------------------------------\u001b[0m",
      "\u001b[1;31mNameError\u001b[0m                                 Traceback (most recent call last)",
      "\u001b[1;32m<ipython-input-7-f770f857f29d>\u001b[0m in \u001b[0;36m<module>\u001b[1;34m\u001b[0m\n\u001b[1;32m----> 1\u001b[1;33m \u001b[0mblossom\u001b[0m \u001b[1;33m=\u001b[0m \u001b[0mbloom\u001b[0m\u001b[1;33m(\u001b[0m\u001b[0mroot\u001b[0m\u001b[1;33m)\u001b[0m\u001b[1;33m\u001b[0m\u001b[1;33m\u001b[0m\u001b[0m\n\u001b[0m\u001b[0;32m      2\u001b[0m \u001b[0mblossom\u001b[0m\u001b[1;33m[\u001b[0m\u001b[1;36m0\u001b[0m\u001b[1;33m]\u001b[0m\u001b[1;33m.\u001b[0m\u001b[0mgetPos\u001b[0m\u001b[1;33m(\u001b[0m\u001b[1;33m)\u001b[0m\u001b[1;33m\u001b[0m\u001b[1;33m\u001b[0m\u001b[0m\n",
      "\u001b[1;31mNameError\u001b[0m: name 'bloom' is not defined"
     ]
    }
   ],
   "source": [
    "blossom = bloom(root)\n",
    "blossom[0].getPos()"
   ]
  },
  {
   "cell_type": "code",
   "execution_count": null,
   "metadata": {},
   "outputs": [],
   "source": [
    "root.addChild(blossom[0])"
   ]
  },
  {
   "cell_type": "code",
   "execution_count": null,
   "metadata": {},
   "outputs": [],
   "source": [
    "root.toList()"
   ]
  },
  {
   "cell_type": "code",
   "execution_count": 20,
   "metadata": {},
   "outputs": [],
   "source": [
    "\n",
    "N = 2\n",
    "labels = []\n",
    "group = [1,2]\n",
    "layt = [\n",
    "    [4.195949332184983, 1.172321178571202, -2.5543268281789135],\n",
    "    [5.195949332184983, 3.172321178571202, -2.5543268281789135]\n",
    "]\n",
    "Edges = [[0,1]]"
   ]
  },
  {
   "cell_type": "markdown",
   "metadata": {},
   "source": [
    "`layt` is a list of three elements lists (the coordinates of nodes):"
   ]
  },
  {
   "cell_type": "code",
   "execution_count": 4,
   "metadata": {},
   "outputs": [
    {
     "data": {
      "text/plain": [
       "[4.195949332184983, 1.172321178571202, -2.5543268281789135]"
      ]
     },
     "execution_count": 4,
     "metadata": {},
     "output_type": "execute_result"
    }
   ],
   "source": [
    "layt[0]"
   ]
  },
  {
   "cell_type": "code",
   "execution_count": 5,
   "metadata": {},
   "outputs": [
    {
     "data": {
      "text/plain": [
       "[0, 1]"
      ]
     },
     "execution_count": 5,
     "metadata": {},
     "output_type": "execute_result"
    }
   ],
   "source": [
    "Edges[0]"
   ]
  },
  {
   "cell_type": "markdown",
   "metadata": {},
   "source": [
    "Set data for the Plotly plot of the graph:"
   ]
  },
  {
   "cell_type": "code",
   "execution_count": 87,
   "metadata": {},
   "outputs": [],
   "source": [
    "Xn=[layt[k][0] for k in range(N)]# x-coordinates of nodes\n",
    "Yn=[layt[k][1] for k in range(N)]# y-coordinates\n",
    "Zn=[layt[k][2] for k in range(N)]# z-coordinates\n",
    "Xe=[]\n",
    "Ye=[]\n",
    "Ze=[]\n",
    "for e in Edges:\n",
    "    Xe+=[layt[e[0]][0],layt[e[1]][0], 0,-1]# x-coordinates of edge ends\n",
    "    Ye+=[layt[e[0]][1],layt[e[1]][1], 0,1]  \n",
    "    Ze+=[layt[e[0]][2],layt[e[1]][2], 0,0]  "
   ]
  },
  {
   "cell_type": "code",
   "execution_count": 88,
   "metadata": {},
   "outputs": [
    {
     "data": {
      "text/plain": [
       "[4.195949332184983, 5.195949332184983, 0, -1]"
      ]
     },
     "execution_count": 88,
     "metadata": {},
     "output_type": "execute_result"
    }
   ],
   "source": [
    "Xe"
   ]
  },
  {
   "cell_type": "code",
   "execution_count": 101,
   "metadata": {},
   "outputs": [],
   "source": [
    "trace1=go.Scatter3d(x=Xe,\n",
    "               y=Ye,\n",
    "               z=Ze,\n",
    "               mode='lines',\n",
    "               line=dict(color='rgb(125,125,125)', width=3),\n",
    "               hoverinfo='none'\n",
    "               )\n",
    "\n",
    "trace2=go.Scatter3d(x=Xn,\n",
    "               y=Yn,\n",
    "               z=Zn,\n",
    "               mode='markers',\n",
    "               name='actors',\n",
    "               marker=dict(symbol='circle',\n",
    "                             size=6,\n",
    "                             color=group,\n",
    "                             colorscale='Viridis',\n",
    "                             line=dict(color='rgb(50,50,50)', width=0.5)\n",
    "                             ),\n",
    "               text=labels,\n",
    "               hoverinfo='text'\n",
    "               )\n",
    "\n",
    "axis=dict(showbackground=True,\n",
    "          showline=True,\n",
    "          zeroline=True,\n",
    "          showgrid=True,\n",
    "          showticklabels=True,\n",
    "          title=''\n",
    "          )\n",
    "\n",
    "layout = go.Layout(\n",
    "         title=\"Babybreath graph\",\n",
    "         width=1000,\n",
    "         height=1000,\n",
    "         showlegend=False,\n",
    "         scene=dict(\n",
    "             xaxis=dict(axis),\n",
    "             yaxis=dict(axis),\n",
    "             zaxis=dict(axis),\n",
    "        ),\n",
    "     margin=dict(\n",
    "        t=100\n",
    "    ),\n",
    "    hovermode='closest',    )"
   ]
  },
  {
   "cell_type": "code",
   "execution_count": 102,
   "metadata": {},
   "outputs": [
    {
     "data": {
      "text/plain": [
       "Scatter3d({\n",
       "    'hoverinfo': 'none',\n",
       "    'line': {'color': 'rgb(125,125,125)', 'width': 3},\n",
       "    'mode': 'lines',\n",
       "    'x': [4.195949332184983, 5.195949332184983, 0, -1],\n",
       "    'y': [1.172321178571202, 3.172321178571202, 0, 1],\n",
       "    'z': [-2.5543268281789135, -2.5543268281789135, 0, 0]\n",
       "})"
      ]
     },
     "execution_count": 102,
     "metadata": {},
     "output_type": "execute_result"
    }
   ],
   "source": [
    "trace1"
   ]
  },
  {
   "cell_type": "code",
   "execution_count": 103,
   "metadata": {},
   "outputs": [],
   "source": [
    "data=[trace1, trace2]\n",
    "fig=go.Figure(data=data, layout=layout)"
   ]
  },
  {
   "cell_type": "code",
   "execution_count": 104,
   "metadata": {},
   "outputs": [
    {
     "data": {
      "text/plain": [
       "'file://C:\\\\Users\\\\ediaz\\\\Documents\\\\PrograJAVA\\\\BabyBreath\\\\BabyBreath\\\\graph.html'"
      ]
     },
     "execution_count": 104,
     "metadata": {},
     "output_type": "execute_result"
    }
   ],
   "source": [
    "plotly.offline.plot(fig, filename = 'graph.html')"
   ]
  },
  {
   "cell_type": "code",
   "execution_count": null,
   "metadata": {},
   "outputs": [],
   "source": []
  }
 ],
 "metadata": {
  "anaconda-cloud": {},
  "kernelspec": {
   "display_name": "Python 3",
   "language": "python",
   "name": "python3"
  },
  "language_info": {
   "codemirror_mode": {
    "name": "ipython",
    "version": 3
   },
   "file_extension": ".py",
   "mimetype": "text/x-python",
   "name": "python",
   "nbconvert_exporter": "python",
   "pygments_lexer": "ipython3",
   "version": "3.7.1"
  }
 },
 "nbformat": 4,
 "nbformat_minor": 1
}
