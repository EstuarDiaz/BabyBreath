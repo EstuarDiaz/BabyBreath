{
 "cells": [
  {
   "cell_type": "code",
   "execution_count": 1,
   "metadata": {},
   "outputs": [],
   "source": [
    "import plotly.plotly\n",
    "import plotly.graph_objs as go\n",
    "from plotly.offline import *"
   ]
  },
  {
   "cell_type": "code",
   "execution_count": 20,
   "metadata": {},
   "outputs": [],
   "source": [
    "class Node(object):\n",
    "    def __init__(self, n=1, x=0, y=0, z=0):\n",
    "        self.position = [int(x),int(y),int(z)]\n",
    "        self.birthday = n\n",
    "        self.parent = None\n",
    "        self.children = []\n",
    "    \n",
    "    def setBirthday(self,n):\n",
    "        self.birthday = n\n",
    "        \n",
    "    def getBirthday(self):\n",
    "        return self.birthday\n",
    "    \n",
    "    def setParent(self, parent):\n",
    "        self.parent = parent\n",
    "    \n",
    "    def getParent(self):\n",
    "        return self.parent\n",
    "    \n",
    "    def addChild(self, child):\n",
    "        child.setParent(self)\n",
    "        self.children.append(child)\n",
    "    \n",
    "    def getChildren(self):\n",
    "        return self.children\n",
    "    \n",
    "    def setPosition(self, x,y,z):\n",
    "        self.position = [x,y,z]\n",
    "        \n",
    "    def getPosition(self):\n",
    "        return self.position\n",
    "    \n",
    "    def equals(self, node):\n",
    "        return (self.position == node.position)\n",
    "    \n",
    "    def preBirth(self):\n",
    "        n = self.birthday\n",
    "        x = self.position[0]\n",
    "        y = self.position[1]\n",
    "        z = self.position[2]\n",
    "        \n",
    "        A = Node(n+1, x+1, y+1, z+(-1)**x)\n",
    "        B = Node(n+1, x-1, y-1, z+(-1)**x)\n",
    "        C = Node(n+1, x+1, y-1, z+(-1)**(x+1))\n",
    "        D = Node(n+1, x-1, y+1, z+(-1)**(x+1))\n",
    "        \n",
    "        A.setParent(self)\n",
    "        B.setParent(self)\n",
    "        C.setParent(self)\n",
    "        D.setParent(self)\n",
    "        return [A,B,C,D]\n",
    "    \n",
    "    def get3Dpoints(self):\n",
    "        x = self.position[0]\n",
    "        y = self.position[1]\n",
    "        z = self.position[2]\n",
    "        if x%2 == 1:\n",
    "            points = [  [x+0,   y+0,   z+0],\n",
    "                        [x-0.5, y-0.5, z-0.5],\n",
    "                        [x-0.5, y+0.5, z+0.5],\n",
    "                        [x+0.5, y-0.5, z+0.5],\n",
    "                        [x+0.5, y+0.5, z-0.5]]\n",
    "        else:\n",
    "            points = [  [x+0,   y+0,   z+0],\n",
    "                        [x+0.5, y-0.5, z-0.5],\n",
    "                        [x+0.5, y+0.5, z+0.5],\n",
    "                        [x-0.5, y-0.5, z+0.5],\n",
    "                        [x-0.5, y+0.5, z-0.5]]\n",
    "        return points\n",
    "    \n",
    "    def getFull3Dpoints(self):\n",
    "        points = []\n",
    "        points += self.get3Dpoints()\n",
    "        for child in self.children:\n",
    "            points += child.getFull3Dpoints()\n",
    "        return points\n",
    "    \n",
    "    def getFull3DpointsGroup(self,n = 0):\n",
    "        groups = []\n",
    "        points = []\n",
    "        points += self.get3Dpoints()\n",
    "        for i in range(5):\n",
    "            groups += [n]\n",
    "        for child in self.children:\n",
    "            data = child.getFull3DpointsGroup(n+1)\n",
    "            points += data[0]\n",
    "            groups += data[1]\n",
    "        return [points,groups]\n",
    "            "
   ]
  },
  {
   "cell_type": "code",
   "execution_count": 21,
   "metadata": {},
   "outputs": [],
   "source": [
    "class TreeClass(object):\n",
    "    def __init__(self,root):\n",
    "        self.data = [[root]]\n",
    "        self.population = 1\n",
    "        self.root = root\n",
    "    \n",
    "    def append(self,a):\n",
    "        self.population += len(a)\n",
    "        self.data.append(a)\n",
    "        \n",
    "    def getData(self):\n",
    "        \n",
    "        return self.data\n",
    "        \n",
    "    def getDepth(self):\n",
    "        return len(self.data)\n",
    "    \n",
    "    def getLastBranch(self):\n",
    "        return self.data[self.getDepth()-1]\n",
    "    \n",
    "    def getPopulation(self):\n",
    "        return self.population\n",
    "        \n",
    "    def get3Dpoints(self):\n",
    "        return self.root.getFull3Dpoints()\n",
    "        \n",
    "    def get3DpointsGroup(self):\n",
    "        return self.root.getFull3DpointsGroup()\n",
    "    \n",
    "    def printData(self):\n",
    "        print(\"Total population: \",self.getPopulation())\n",
    "        for level in self.data:\n",
    "            for node in level:\n",
    "                pos = node.getPosition()\n",
    "                print(\"n: \",node.getBirthday(),\" pos:(\",pos[0],\", \",pos[1],\", \",pos[2],\")\")"
   ]
  },
  {
   "cell_type": "code",
   "execution_count": 22,
   "metadata": {},
   "outputs": [],
   "source": [
    "def BloomBF(Tree):\n",
    "    preNodes = []\n",
    "    newNodes = []\n",
    "    for node in Tree.getLastBranch():\n",
    "        preNodes.extend(node.preBirth())\n",
    "    \n",
    "    for i in range(len(preNodes)):\n",
    "        repeated = False\n",
    "        for branchLevel in Tree.getData():\n",
    "            for node in branchLevel:\n",
    "                if preNodes[i].equals(node):\n",
    "                    repeated = True\n",
    "        for j in range(len(preNodes)):\n",
    "            if i != j and preNodes[i].equals(preNodes[j]):\n",
    "                repeated = True\n",
    "        if repeated == False:\n",
    "            preNodes[i].getParent().addChild(preNodes[i])\n",
    "            newNodes.append(preNodes[i])\n",
    "    \n",
    "    Tree.append(newNodes)\n",
    "    return Tree"
   ]
  },
  {
   "cell_type": "code",
   "execution_count": 84,
   "metadata": {},
   "outputs": [
    {
     "name": "stdout",
     "output_type": "stream",
     "text": [
      "Total population:  1\n",
      "n:  1  pos:( 0 ,  0 ,  0 )\n"
     ]
    }
   ],
   "source": [
    "root = Node()\n",
    "Tree = TreeClass(root)\n",
    "Tree.printData()"
   ]
  },
  {
   "cell_type": "code",
   "execution_count": 85,
   "metadata": {},
   "outputs": [],
   "source": [
    "n = 16\n",
    "bbs = [Tree.getPopulation()] # Baby Breath Sequence\n",
    "for i in range(n-1):\n",
    "    Tree = BloomBF(Tree)\n",
    "    bbs.append(Tree.getPopulation())"
   ]
  },
  {
   "cell_type": "code",
   "execution_count": 86,
   "metadata": {},
   "outputs": [
    {
     "name": "stdout",
     "output_type": "stream",
     "text": [
      "Baby Breath Sequence:  [1, 5, 17, 29, 41, 77, 161, 197, 209, 245, 353, 533, 665, 869, 1313, 1469]\n"
     ]
    }
   ],
   "source": [
    "print(\"Baby Breath Sequence: \",bbs)"
   ]
  },
  {
   "cell_type": "code",
   "execution_count": 87,
   "metadata": {},
   "outputs": [
    {
     "data": {
      "text/plain": [
       "[0, 2, 2]"
      ]
     },
     "execution_count": 87,
     "metadata": {},
     "output_type": "execute_result"
    }
   ],
   "source": [
    "Tree.getData()[2][2].getPosition()"
   ]
  },
  {
   "cell_type": "code",
   "execution_count": 88,
   "metadata": {},
   "outputs": [
    {
     "data": {
      "text/plain": [
       "'\\nPoints = Tree.get3Dpoints()\\nEdgesList = []\\ngroup = []\\nfor i in range(Tree.getPopulation()):\\n    Edges = []\\n    for j in range(4):\\n        Edges.append([i*5+0,i*5+j+1])\\n    EdgesList.append(Edges)\\n'"
      ]
     },
     "execution_count": 88,
     "metadata": {},
     "output_type": "execute_result"
    }
   ],
   "source": [
    "'''\n",
    "Points = Tree.get3Dpoints()\n",
    "EdgesList = []\n",
    "group = []\n",
    "for i in range(Tree.getPopulation()):\n",
    "    Edges = []\n",
    "    for j in range(4):\n",
    "        Edges.append([i*5+0,i*5+j+1])\n",
    "    EdgesList.append(Edges)\n",
    "'''"
   ]
  },
  {
   "cell_type": "code",
   "execution_count": 89,
   "metadata": {},
   "outputs": [],
   "source": [
    "data = Tree.get3DpointsGroup()\n",
    "Points = data[0]\n",
    "group = data[1]\n",
    "EdgesList = []\n",
    "for i in range(Tree.getPopulation()):\n",
    "    Edges = []\n",
    "    for j in range(4):\n",
    "        Edges.append([i*5+0,i*5+j+1])\n",
    "    EdgesList.append(Edges)"
   ]
  },
  {
   "cell_type": "code",
   "execution_count": 90,
   "metadata": {},
   "outputs": [],
   "source": [
    "Xn=[Points[k][0] for k in range(len(Points))]# x-coordinates of nodes\n",
    "Yn=[Points[k][1] for k in range(len(Points))]# y-coordinates of nodes\n",
    "Zn=[Points[k][2] for k in range(len(Points))]# z-coordinates of nodes"
   ]
  },
  {
   "cell_type": "code",
   "execution_count": 91,
   "metadata": {},
   "outputs": [],
   "source": [
    "PlotData = []"
   ]
  },
  {
   "cell_type": "code",
   "execution_count": 92,
   "metadata": {},
   "outputs": [
    {
     "data": {
      "text/plain": [
       "'\\ngroup = []\\ng = 0\\nfor i in bbs:\\n    for j in range(5*i-len(group)):\\n        group += [g]\\n    g+=1\\n'"
      ]
     },
     "execution_count": 92,
     "metadata": {},
     "output_type": "execute_result"
    }
   ],
   "source": [
    "'''\n",
    "group = []\n",
    "g = 0\n",
    "for i in bbs:\n",
    "    for j in range(5*i-len(group)):\n",
    "        group += [g]\n",
    "    g+=1\n",
    "'''"
   ]
  },
  {
   "cell_type": "code",
   "execution_count": 93,
   "metadata": {},
   "outputs": [],
   "source": [
    "#Points"
   ]
  },
  {
   "cell_type": "code",
   "execution_count": 94,
   "metadata": {},
   "outputs": [],
   "source": [
    "#EdgesList"
   ]
  },
  {
   "cell_type": "code",
   "execution_count": 95,
   "metadata": {},
   "outputs": [],
   "source": [
    "trace=go.Scatter3d(x=Xn,\n",
    "               y=Yn,\n",
    "               z=Zn,\n",
    "               mode='markers',\n",
    "               name='actors',\n",
    "               marker=dict(symbol='circle',\n",
    "                             size=6,\n",
    "                             color=group,\n",
    "                             colorscale='Viridis',\n",
    "                             line=dict(color='rgb(50,50,50)', width=0.5)\n",
    "                             ),\n",
    "               text=[],\n",
    "               hoverinfo='text'\n",
    "               )\n",
    "PlotData.append(trace)"
   ]
  },
  {
   "cell_type": "code",
   "execution_count": 96,
   "metadata": {},
   "outputs": [],
   "source": [
    "for Edges in EdgesList:\n",
    "    Xe=[]\n",
    "    Ye=[]\n",
    "    Ze=[]\n",
    "    for e in Edges:\n",
    "        Xe+=[Points[e[0]][0],Points[e[1]][0]]# x-coordinates of edge ends\n",
    "        Ye+=[Points[e[0]][1],Points[e[1]][1]]  \n",
    "        Ze+=[Points[e[0]][2],Points[e[1]][2]]  \n",
    "\n",
    "    trace2=go.Scatter3d(x=Xe,\n",
    "                   y=Ye,\n",
    "                   z=Ze,\n",
    "                   mode='lines',\n",
    "                   line=dict(color='rgb(125,125,125)', width=3),\n",
    "                   hoverinfo='none'\n",
    "                   )\n",
    "    PlotData.append(trace2)"
   ]
  },
  {
   "cell_type": "code",
   "execution_count": 97,
   "metadata": {},
   "outputs": [],
   "source": [
    "axis=dict(showbackground=True,\n",
    "          showline=True,\n",
    "          zeroline=True,\n",
    "          showgrid=True,\n",
    "          showticklabels=True,\n",
    "          title=''\n",
    "          )\n",
    "\n",
    "layout = go.Layout(\n",
    "         title=\"Babybreath graph\",\n",
    "         width=1000,\n",
    "         height=1000,\n",
    "         showlegend=False,\n",
    "         scene=dict(\n",
    "             xaxis=dict(axis),\n",
    "             yaxis=dict(axis),\n",
    "             zaxis=dict(axis),\n",
    "        ),\n",
    "     margin=dict(\n",
    "        t=100\n",
    "    ),\n",
    "    hovermode='closest',    )"
   ]
  },
  {
   "cell_type": "code",
   "execution_count": 98,
   "metadata": {},
   "outputs": [
    {
     "data": {
      "text/plain": [
       "'file://C:\\\\Users\\\\ediaz\\\\Documents\\\\PrograJAVA\\\\BabyBreath\\\\BabyBreath\\\\graph16.html'"
      ]
     },
     "execution_count": 98,
     "metadata": {},
     "output_type": "execute_result"
    }
   ],
   "source": [
    "fig=go.Figure(data=PlotData, layout=layout)\n",
    "plotly.offline.plot(fig, filename = 'graph'+str(n)+'.html')"
   ]
  },
  {
   "cell_type": "code",
   "execution_count": null,
   "metadata": {},
   "outputs": [],
   "source": []
  },
  {
   "cell_type": "code",
   "execution_count": null,
   "metadata": {},
   "outputs": [],
   "source": []
  }
 ],
 "metadata": {
  "anaconda-cloud": {},
  "kernelspec": {
   "display_name": "Python 3",
   "language": "python",
   "name": "python3"
  },
  "language_info": {
   "codemirror_mode": {
    "name": "ipython",
    "version": 3
   },
   "file_extension": ".py",
   "mimetype": "text/x-python",
   "name": "python",
   "nbconvert_exporter": "python",
   "pygments_lexer": "ipython3",
   "version": "3.7.1"
  }
 },
 "nbformat": 4,
 "nbformat_minor": 1
}
